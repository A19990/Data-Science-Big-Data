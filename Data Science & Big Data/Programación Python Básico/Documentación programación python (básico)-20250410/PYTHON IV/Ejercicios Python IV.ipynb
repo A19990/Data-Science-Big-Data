{
 "cells": [
  {
   "cell_type": "markdown",
   "id": "3dfff444",
   "metadata": {},
   "source": [
    "# EJERCICIOS PYTHON III"
   ]
  },
  {
   "cell_type": "markdown",
   "id": "d11539e5",
   "metadata": {},
   "source": [
    "# Crea un modulo que podamos usar para obtener aleatoriamente notas entre 1 y 10"
   ]
  },
  {
   "cell_type": "code",
   "execution_count": null,
   "id": "57eab285",
   "metadata": {},
   "outputs": [],
   "source": [
    "#Creamos un texto plano en nuestra ruta de trabajo al que llamamo Utilidades.py con este codigo:\n",
    "\n",
    "import random\n",
    "\n",
    "def DameAleatorio(minimo, maximo):\n",
    "    return random.randint(minimo, maximo)"
   ]
  },
  {
   "cell_type": "code",
   "execution_count": null,
   "id": "d906c443",
   "metadata": {},
   "outputs": [],
   "source": [
    "#En Jupyter podemos importar el modulo anterior y usarlo:\n",
    "import Utilidades\n",
    "\n",
    "numero = Utilidades.DameAleatorio(1,10)\n",
    "print(numero)"
   ]
  },
  {
   "cell_type": "markdown",
   "id": "8f89f3a8",
   "metadata": {},
   "source": [
    "# Utilizando el modulo anterior obtén 30 notas aleatorias y guardaras en Excel"
   ]
  },
  {
   "cell_type": "code",
   "execution_count": null,
   "id": "9b96595e",
   "metadata": {},
   "outputs": [],
   "source": [
    "import openpyxl\n",
    "import Utilidades\n",
    "ListaNumeros=[]\n",
    "for i in range(30):\n",
    "    ListaNumeros.append(Utilidades.DameAleatorio(1,10))\n",
    "\n",
    "\n",
    "excel_document = openpyxl.load_workbook('C:\\\\EjerciciosPython\\\\Modulos\\\\EjercicioAleatorios.xlsx')\n",
    "Hoja = excel_document['Numeros']#Selecciono la hoja de excel que deseo\n",
    "Hoja.append(ListaNumeros)\n",
    "\n",
    "excel_document.save('C:\\\\EjerciciosPython\\\\Modulos\\\\EjercicioAleatorios.xlsx')#Solo en este momento se modifica el fichero"
   ]
  },
  {
   "cell_type": "markdown",
   "id": "8a4279af",
   "metadata": {},
   "source": [
    "# Crea un grafico que muestre si hay mas aprobados o suspensos"
   ]
  },
  {
   "cell_type": "code",
   "execution_count": null,
   "id": "f2f1bb39",
   "metadata": {},
   "outputs": [],
   "source": [
    "import openpyxl\n",
    "import matplotlib.pyplot as grafico\n",
    "import Utilidades\n",
    "\n",
    "\n",
    "excel_document = openpyxl.load_workbook('C:\\EjerciciosPython\\Modulos\\EjercicioAleatorios.xlsx')\n",
    "Hoja = excel_document['Numeros']#Selecciono la hoja de excel que deseo\n",
    "Valores = Hoja['A1':'AD1']#rango que quiero\n",
    "\n",
    "#Los leo\n",
    "aprobados=0\n",
    "suspensos=0\n",
    "for fila in Valores:#recorro filas\n",
    "    for nota in fila:#recorro columna        \n",
    "        if (nota.value >= 5):\n",
    "            aprobados = aprobados + 1\n",
    "        else:\n",
    "            suspensos = suspensos + 1\n",
    "\n",
    "print('Hay '+str(aprobados)+' aprobados y '+str(suspensos)+ ' suspensos')#Para probar\n",
    "\n",
    "#grafico\n",
    "x=['aprobados','suspensos']\n",
    "y=[aprobados,suspensos]\n",
    "grafico.bar(x,y)\n",
    "grafico.show()"
   ]
  },
  {
   "cell_type": "code",
   "execution_count": null,
   "id": "75f848d1",
   "metadata": {},
   "outputs": [],
   "source": []
  }
 ],
 "metadata": {
  "kernelspec": {
   "display_name": "Python 3 (ipykernel)",
   "language": "python",
   "name": "python3"
  },
  "language_info": {
   "codemirror_mode": {
    "name": "ipython",
    "version": 3
   },
   "file_extension": ".py",
   "mimetype": "text/x-python",
   "name": "python",
   "nbconvert_exporter": "python",
   "pygments_lexer": "ipython3",
   "version": "3.9.12"
  }
 },
 "nbformat": 4,
 "nbformat_minor": 5
}

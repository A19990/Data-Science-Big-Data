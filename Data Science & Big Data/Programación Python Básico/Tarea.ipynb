{
 "cells": [
  {
   "cell_type": "markdown",
   "id": "d61bb92a",
   "metadata": {},
   "source": [
    "# TAREA CURSO PYTHON"
   ]
  },
  {
   "cell_type": "markdown",
   "id": "58f74543",
   "metadata": {},
   "source": [
    "### Escriba una unica solución para cada ejercicio planteado, guarde el fichero y súbalo a la plataforma.\n",
    "### Si la solución cumple lo que el enunciado pide se considera superada, optar a la máxima nota supondrá además utilizar en cada caso la solución más eficiente y el uso de funciones cuando sea posible."
   ]
  },
  {
   "cell_type": "markdown",
   "id": "7ef92ba6",
   "metadata": {},
   "source": [
    "# EJERCICIO 1"
   ]
  },
  {
   "cell_type": "markdown",
   "id": "6be07813",
   "metadata": {},
   "source": [
    "### Cree una lista de 100 números aleatorios entre 1 y 100. Muéstrela tal como se ha generado, despues muestrela ordenada de menor a mayor."
   ]
  },
  {
   "cell_type": "code",
   "execution_count": null,
   "id": "87e96c8b",
   "metadata": {},
   "outputs": [],
   "source": []
  },
  {
   "cell_type": "markdown",
   "id": "abcae49f",
   "metadata": {},
   "source": [
    "# EJERCICIO 2"
   ]
  },
  {
   "cell_type": "markdown",
   "id": "d0df5666",
   "metadata": {},
   "source": [
    "### Realizamos un programa que gestione la lista anterior (desordenada) con las siguientes opciones:\n",
    "### 1.\tAñadir número a la lista\n",
    "### 2.\tEliminar numero según su posición\n",
    "### 3.\tVisualizar número según su posición\n",
    "### 4.\tOrdernar los números (se puede utilizar la función realizada en el ejercicio anterior)\n",
    "### 5.  Visualizar lista\n",
    "### 6.\tAñadir la lista al final del fichero c:\\EjerciciosPython\\Tarea.xlsx\n",
    "### 7.\tSalir\n"
   ]
  },
  {
   "cell_type": "code",
   "execution_count": null,
   "id": "db5c8096",
   "metadata": {},
   "outputs": [],
   "source": []
  },
  {
   "cell_type": "markdown",
   "id": "86cbbe10",
   "metadata": {},
   "source": [
    "# EJERCICIO 3"
   ]
  },
  {
   "cell_type": "markdown",
   "id": "6267976f",
   "metadata": {},
   "source": [
    "### Crear una estructura que almacene el nombre, apellido, email, teléfono y nota de 10 alumnos. Mostrar gráficamente el número de aprobados y suspensos."
   ]
  },
  {
   "cell_type": "code",
   "execution_count": null,
   "id": "3b40b62a",
   "metadata": {},
   "outputs": [],
   "source": []
  },
  {
   "cell_type": "markdown",
   "id": "94ceb45b",
   "metadata": {},
   "source": [
    "# EJERCICIO 4"
   ]
  },
  {
   "cell_type": "markdown",
   "id": "31412bab",
   "metadata": {},
   "source": [
    "### Dada una lista con 10 palabras, se crea otra estructura (elegir lista o tupla) con esas 10 palabras donde cada palabra esté escrita al revés. Por ejemplo, la palabra \"casa\" estará escrita como \"asac\"."
   ]
  },
  {
   "cell_type": "code",
   "execution_count": null,
   "id": "35471517",
   "metadata": {},
   "outputs": [],
   "source": []
  }
 ],
 "metadata": {
  "kernelspec": {
   "display_name": "Python 3 (ipykernel)",
   "language": "python",
   "name": "python3"
  },
  "language_info": {
   "codemirror_mode": {
    "name": "ipython",
    "version": 3
   },
   "file_extension": ".py",
   "mimetype": "text/x-python",
   "name": "python",
   "nbconvert_exporter": "python",
   "pygments_lexer": "ipython3",
   "version": "3.9.12"
  }
 },
 "nbformat": 4,
 "nbformat_minor": 5
}

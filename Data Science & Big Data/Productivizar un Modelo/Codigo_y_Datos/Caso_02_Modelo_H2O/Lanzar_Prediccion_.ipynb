{
 "cells": [
  {
   "cell_type": "code",
   "execution_count": 1,
   "id": "41af25f8",
   "metadata": {},
   "outputs": [],
   "source": [
    "#------ INCLUYO ESTA PETICIÓN EN OTRO NOTEBOOK -------\n",
    "### Creo el conjunto de datos sobre el que quiero hacer la predicción\n",
    "\n",
    "\n",
    "import requests\n",
    "\n",
    "data = {\n",
    "    \"Pclass\": 1,\n",
    "    \"Sex\": \"male\",\n",
    "    \"Age\": 38,\n",
    "    \"SibSp\": 0,\n",
    "    \"Parch\": 0,\n",
    "    \"Fare\": 71.2833,\n",
    "    \"Embarked\": \"C\"\n",
    "}\n",
    "\n",
    "### Hago la petición y obtengo la respuesta\n",
    "response = requests.post(\"http://localhost:8080/predigo\", json=data)\n",
    "prediction = response.json()\n",
    "prediction\n",
    "\n",
    "#-- El resultado de la predicción es:\n",
    "import pandas as pd\n",
    "pred_df = pd.read_json(prediction)"
   ]
  },
  {
   "cell_type": "code",
   "execution_count": 2,
   "id": "262cf50e",
   "metadata": {},
   "outputs": [
    {
     "data": {
      "text/html": [
       "<div>\n",
       "<style scoped>\n",
       "    .dataframe tbody tr th:only-of-type {\n",
       "        vertical-align: middle;\n",
       "    }\n",
       "\n",
       "    .dataframe tbody tr th {\n",
       "        vertical-align: top;\n",
       "    }\n",
       "\n",
       "    .dataframe thead th {\n",
       "        text-align: right;\n",
       "    }\n",
       "</style>\n",
       "<table border=\"1\" class=\"dataframe\">\n",
       "  <thead>\n",
       "    <tr style=\"text-align: right;\">\n",
       "      <th></th>\n",
       "      <th>predict</th>\n",
       "      <th>p0</th>\n",
       "      <th>p1</th>\n",
       "    </tr>\n",
       "  </thead>\n",
       "  <tbody>\n",
       "    <tr>\n",
       "      <th>0</th>\n",
       "      <td>1</td>\n",
       "      <td>0.476108</td>\n",
       "      <td>0.523892</td>\n",
       "    </tr>\n",
       "  </tbody>\n",
       "</table>\n",
       "</div>"
      ],
      "text/plain": [
       "   predict        p0        p1\n",
       "0        1  0.476108  0.523892"
      ]
     },
     "execution_count": 2,
     "metadata": {},
     "output_type": "execute_result"
    }
   ],
   "source": [
    "pred_df"
   ]
  },
  {
   "cell_type": "code",
   "execution_count": null,
   "id": "087508e2",
   "metadata": {},
   "outputs": [],
   "source": []
  }
 ],
 "metadata": {
  "kernelspec": {
   "display_name": "Python 3 (ipykernel)",
   "language": "python",
   "name": "python3"
  },
  "language_info": {
   "codemirror_mode": {
    "name": "ipython",
    "version": 3
   },
   "file_extension": ".py",
   "mimetype": "text/x-python",
   "name": "python",
   "nbconvert_exporter": "python",
   "pygments_lexer": "ipython3",
   "version": "3.9.12"
  }
 },
 "nbformat": 4,
 "nbformat_minor": 5
}

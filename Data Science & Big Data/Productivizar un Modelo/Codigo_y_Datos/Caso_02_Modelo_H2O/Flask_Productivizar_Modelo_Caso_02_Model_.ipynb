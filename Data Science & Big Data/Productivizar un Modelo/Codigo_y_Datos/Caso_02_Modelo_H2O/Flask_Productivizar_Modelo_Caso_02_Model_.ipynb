{
 "cells": [
  {
   "cell_type": "markdown",
   "id": "b4356922",
   "metadata": {},
   "source": [
    "# PRODUCTIVIZAR UN MODELO - EJEMPLO H2O"
   ]
  },
  {
   "cell_type": "markdown",
   "id": "42f17f75",
   "metadata": {},
   "source": [
    "* Vamos a crear un modelo en H2O sobre los datos de Titanic.\n",
    "* Expondremos una función de predicción a la que pasaremos nuevos datos.\n",
    "* Que nos devolverá una predicción."
   ]
  },
  {
   "cell_type": "markdown",
   "id": "660d4563",
   "metadata": {},
   "source": [
    "### Importamos Librerías"
   ]
  },
  {
   "cell_type": "code",
   "execution_count": null,
   "id": "6e1bc4b5",
   "metadata": {},
   "outputs": [],
   "source": [
    "import pandas as pd\n",
    "import h2o\n",
    "from h2o.estimators.xgboost import H2OXGBoostEstimator\n",
    "from h2o.estimators.glm import H2OGeneralizedLinearEstimator\n",
    "from flask import Flask, request, jsonify\n",
    "\n",
    "import warnings\n",
    "warnings.filterwarnings(\"ignore\")"
   ]
  },
  {
   "cell_type": "markdown",
   "id": "583d0741",
   "metadata": {},
   "source": [
    "### Inicializamos la aplicación de Flask"
   ]
  },
  {
   "cell_type": "code",
   "execution_count": null,
   "id": "dc06bb63",
   "metadata": {},
   "outputs": [],
   "source": [
    "app = Flask(__name__)"
   ]
  },
  {
   "cell_type": "markdown",
   "id": "e0de0d42",
   "metadata": {},
   "source": [
    "### Modelo"
   ]
  },
  {
   "cell_type": "code",
   "execution_count": null,
   "id": "0c8737d6",
   "metadata": {},
   "outputs": [],
   "source": [
    "titanic_df = pd.read_csv('../data/titanic.csv')"
   ]
  },
  {
   "cell_type": "code",
   "execution_count": null,
   "id": "f1b3d2f6",
   "metadata": {},
   "outputs": [],
   "source": [
    "titanic_df.head()"
   ]
  },
  {
   "cell_type": "code",
   "execution_count": null,
   "id": "4ab27c63",
   "metadata": {},
   "outputs": [],
   "source": [
    "# Inicializamos el cluster de H2O\n",
    "h2o.init()"
   ]
  },
  {
   "cell_type": "code",
   "execution_count": null,
   "id": "84f9f4e6",
   "metadata": {},
   "outputs": [],
   "source": [
    "# Convertimos el dataframe de pandas a un objeto H2O\n",
    "hf = h2o.H2OFrame(titanic_df)"
   ]
  },
  {
   "cell_type": "code",
   "execution_count": null,
   "id": "de1b3e74",
   "metadata": {},
   "outputs": [],
   "source": [
    "hf.head()"
   ]
  },
  {
   "cell_type": "code",
   "execution_count": null,
   "id": "c7fe1086",
   "metadata": {},
   "outputs": [],
   "source": [
    "# Convertimos la variable objetivo en factor de otra forma el problema lo entiende como de regresión.\n",
    "hf['Survived'] = hf['Survived'].asfactor()"
   ]
  },
  {
   "cell_type": "code",
   "execution_count": null,
   "id": "4065988e",
   "metadata": {},
   "outputs": [],
   "source": [
    "# Dividimos los datos en train y test\n",
    "train, test = hf.split_frame(ratios=[0.8])\n",
    "\n",
    "# Definimos las variables predictoras y la variable objetivo\n",
    "features = ['Pclass', 'Sex', 'Age', 'SibSp', 'Parch', 'Fare', 'Embarked']\n",
    "target = 'Survived'"
   ]
  },
  {
   "cell_type": "code",
   "execution_count": null,
   "id": "c0a3959e",
   "metadata": {},
   "outputs": [],
   "source": [
    "# Definimos el modelo\n",
    "model = H2OXGBoostEstimator(ntrees=100, max_depth=3, learn_rate=0.1, seed=1)\n",
    "\n",
    "# Entrenamos el modelo\n",
    "model.train(x=features, y=target, training_frame=train)"
   ]
  },
  {
   "cell_type": "markdown",
   "id": "59a962f7",
   "metadata": {},
   "source": [
    "## Apificamos la llamada al modelo para predecir"
   ]
  },
  {
   "cell_type": "code",
   "execution_count": null,
   "id": "c2b7937c",
   "metadata": {},
   "outputs": [],
   "source": [
    "# Defino la ruta\n",
    "@app.route('/predigo', methods=['POST'])\n",
    "def predigo():\n",
    "    # Consigo los datos de la petición\n",
    "    data = request.get_json(force=True)\n",
    "\n",
    "    # Los convierto a objeto de h2o\n",
    "    hf_test = h2o.H2OFrame(data)\n",
    "\n",
    "    # Hago la predicición\n",
    "    preds = model.predict(hf_test)\n",
    "\n",
    "    # Convierto la predicción a pandas dataframe\n",
    "    preds_df = preds.as_data_frame()\n",
    "\n",
    "    # Renombro la predicción a \"result\"\n",
    "    result = preds_df\n",
    "\n",
    "    # La predicción la convierto a un JSON\n",
    "    return jsonify(result.to_json(orient='records'))"
   ]
  },
  {
   "cell_type": "code",
   "execution_count": null,
   "id": "2e271948",
   "metadata": {
    "scrolled": true
   },
   "outputs": [],
   "source": [
    "# Levanto la aplicación en el puerto 8080 para\n",
    "if __name__ == '__main__':\n",
    "    app.run(port=8080)"
   ]
  },
  {
   "cell_type": "code",
   "execution_count": null,
   "id": "6af1f0c2",
   "metadata": {},
   "outputs": [],
   "source": []
  },
  {
   "cell_type": "markdown",
   "id": "a8611757",
   "metadata": {},
   "source": [
    "---\n",
    "---"
   ]
  },
  {
   "cell_type": "markdown",
   "id": "2e1d410f",
   "metadata": {},
   "source": [
    "### Lanzo una petición al modelo"
   ]
  },
  {
   "cell_type": "code",
   "execution_count": null,
   "id": "acb37734",
   "metadata": {},
   "outputs": [],
   "source": [
    "#------ INCLUYO ESTA PETICIÓN EN OTRO NOTEBOOK -------\n",
    "### Creo el conjunto de datos sobre el que quiero hacer la predicción\n",
    "\n",
    "\n",
    "import requests\n",
    "\n",
    "data = {\n",
    "    \"Pclass\": 1,\n",
    "    \"Sex\": \"male\",\n",
    "    \"Age\": 38,\n",
    "    \"SibSp\": 0,\n",
    "    \"Parch\": 0,\n",
    "    \"Fare\": 71.2833,\n",
    "    \"Embarked\": \"C\"\n",
    "}\n",
    "\n",
    "### Hago la petición y obtengo la respuesta\n",
    "response = requests.post(\"http://localhost:8080/predigo\", json=data)\n",
    "prediction = response.json()\n",
    "prediction\n",
    "\n",
    "#-- El resultado de la predicción es:\n",
    "import pandas as pd\n",
    "pred_df = pd.read_json(prediction)"
   ]
  }
 ],
 "metadata": {
  "kernelspec": {
   "display_name": "Python 3 (ipykernel)",
   "language": "python",
   "name": "python3"
  },
  "language_info": {
   "codemirror_mode": {
    "name": "ipython",
    "version": 3
   },
   "file_extension": ".py",
   "mimetype": "text/x-python",
   "name": "python",
   "nbconvert_exporter": "python",
   "pygments_lexer": "ipython3",
   "version": "3.9.12"
  },
  "vscode": {
   "interpreter": {
    "hash": "ad506e37338345bc4ce10fda93677ae7fabdd19e81cb29c306a14785784ddb73"
   }
  }
 },
 "nbformat": 4,
 "nbformat_minor": 5
}

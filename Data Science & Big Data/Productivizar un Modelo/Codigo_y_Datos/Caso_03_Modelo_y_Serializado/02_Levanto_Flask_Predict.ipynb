{
 "cells": [
  {
   "cell_type": "markdown",
   "id": "f9bcf5eb",
   "metadata": {},
   "source": [
    "# Levantamos el servicio"
   ]
  },
  {
   "cell_type": "code",
   "execution_count": null,
   "id": "fd5345a8",
   "metadata": {},
   "outputs": [],
   "source": [
    "from flask import Flask, request, jsonify\n",
    "import pandas as pd\n",
    "import numpy as np\n",
    "from sklearn.ensemble import RandomForestRegressor\n",
    "from sklearn.preprocessing import StandardScaler\n",
    "import pickle\n",
    "import json\n",
    "\n",
    "\n",
    "import warnings\n",
    "warnings.filterwarnings(\"ignore\")"
   ]
  },
  {
   "cell_type": "markdown",
   "id": "ae897500",
   "metadata": {},
   "source": [
    "## Apificamos la llamada al modelo para predecir"
   ]
  },
  {
   "cell_type": "code",
   "execution_count": null,
   "id": "dadef660",
   "metadata": {},
   "outputs": [],
   "source": [
    "app = Flask(__name__)"
   ]
  },
  {
   "cell_type": "code",
   "execution_count": null,
   "id": "97433e27",
   "metadata": {},
   "outputs": [],
   "source": [
    "# Leo el pickle con nuestro modelo\n",
    "with open(\"model.pkl\", \"rb\") as file:\n",
    "    # carga los datos del archivo pickle\n",
    "    model = pickle.load(file)"
   ]
  },
  {
   "cell_type": "code",
   "execution_count": null,
   "id": "55006ea6",
   "metadata": {},
   "outputs": [],
   "source": [
    "# Defino la ruta\n",
    "@app.route('/predigo', methods=['POST'])\n",
    "def predigo():\n",
    "    \n",
    "    # Consigo los datos de la petición\n",
    "    data = request.get_json(force=True)\n",
    "\n",
    "    # Los datos llegan como json los tengo que pasar a numpy\n",
    "    parapred = pd.json_normalize(data)\n",
    "    \n",
    "    # Make prediction using model loaded from disk as per the data.\n",
    "    prediction = model.predict(parapred)\n",
    "    \n",
    "    pred_list = prediction.tolist()\n",
    "    \n",
    "    return jsonify(pred_list)"
   ]
  },
  {
   "cell_type": "code",
   "execution_count": null,
   "id": "e2b60e86",
   "metadata": {},
   "outputs": [],
   "source": [
    "# Levanto la aplicación en el puerto 8080 para\n",
    "if __name__ == '__main__':\n",
    "    app.run(port=8000)"
   ]
  },
  {
   "cell_type": "markdown",
   "id": "dcff5ac5",
   "metadata": {},
   "source": [
    "---\n",
    "---"
   ]
  },
  {
   "cell_type": "code",
   "execution_count": null,
   "id": "a1432197",
   "metadata": {},
   "outputs": [],
   "source": [
    "### Lanzo una petición al modelo\n",
    "\n",
    "### Incluir estas líneas en un notebook diferente.\n",
    "### Creo el conjunto de datos sobre el que quiero hacer la predicción\n",
    "\n",
    "\n",
    "import requests\n",
    "\n",
    "data = {\"Lot_Frontage\":0.6673554319,\"Lot_Area\":0.187097265,\"Year_Built\":-0.3424684487,\n",
    "        \"Year_Remod_Add\":-1.115541966,\"Mas_Vnr_Area\":-0.5660393676,\n",
    "        \"BsmtFin_SF_1\":0.8161812244,\"BsmtFin_SF_2\":0.5575822965,\"Bsmt_Unf_SF\":-0.6577800405,\n",
    "        \"Total_Bsmt_SF\":-0.3838929701,\"First_Flr_SF\":-0.6726430145,\"Second_Flr_SF\":-0.7831853136,\n",
    "        \"Gr_Liv_Area\":-1.1944270494,\"Bsmt_Full_Bath\":-0.8215755506,\"Bsmt_Half_Bath\":-0.2492202433,\n",
    "        \"Full_Bath\":-1.0247928896,\"Half_Bath\":-0.7552026932,\"Bedroom_AbvGr\":-1.032233759,\n",
    "        \"Kitchen_AbvGr\":-0.2072914451,\"TotRms_AbvGrd\":-0.9175348951,\"Fireplaces\":-0.9251433155,\n",
    "        \"Garage_Cars\":-1.0068393381,\"Garage_Area\":1.1961007418,\"Wood_Deck_SF\":0.3660608208,\n",
    "        \"Open_Porch_SF\":-0.7044926691,\"Enclosed_Porch\":-0.3588380042,\"Three_season_porch\":-0.1031343162,\n",
    "        \"Screen_Porch\":1.8545298777,\"Pool_Area\":-0.0630310489,\"Misc_Val\":-0.0894222784,\n",
    "        \"Mo_Sold\":-0.0796015602,\"Year_Sold\":1.6784989954,\"Longitude\":0.9005928028,\"Latitude\":1.0067820106}\n",
    "\n",
    "### Hago la petición y obtengo la respuesta\n",
    "\n",
    "response = requests.post(\"http://localhost:8080/predict\", json=data)\n",
    "prediction = response.json()\n",
    "prediction"
   ]
  },
  {
   "cell_type": "code",
   "execution_count": null,
   "id": "dc8abc59",
   "metadata": {},
   "outputs": [],
   "source": []
  },
  {
   "cell_type": "code",
   "execution_count": null,
   "id": "18c87a5f",
   "metadata": {},
   "outputs": [],
   "source": []
  }
 ],
 "metadata": {
  "kernelspec": {
   "display_name": "Python 3 (ipykernel)",
   "language": "python",
   "name": "python3"
  },
  "language_info": {
   "codemirror_mode": {
    "name": "ipython",
    "version": 3
   },
   "file_extension": ".py",
   "mimetype": "text/x-python",
   "name": "python",
   "nbconvert_exporter": "python",
   "pygments_lexer": "ipython3",
   "version": "3.9.12"
  },
  "vscode": {
   "interpreter": {
    "hash": "ad506e37338345bc4ce10fda93677ae7fabdd19e81cb29c306a14785784ddb73"
   }
  }
 },
 "nbformat": 4,
 "nbformat_minor": 5
}

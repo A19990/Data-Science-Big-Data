{
 "cells": [
  {
   "cell_type": "code",
   "execution_count": null,
   "id": "041dbbac",
   "metadata": {},
   "outputs": [],
   "source": [
    "### Lanzo una petición al modelo\n",
    "\n",
    "### Incluir estas líneas en un notebook diferente.\n",
    "### Creo el conjunto de datos sobre el que quiero hacer la predicción\n",
    "\n",
    "\n",
    "import requests\n",
    "\n",
    "data = {\"Lot_Frontage\":0.6673554319,\"Lot_Area\":0.187097265,\"Year_Built\":-0.3424684487,\n",
    "        \"Year_Remod_Add\":-1.115541966,\"Mas_Vnr_Area\":-0.5660393676,\n",
    "        \"BsmtFin_SF_1\":0.8161812244,\"BsmtFin_SF_2\":0.5575822965,\"Bsmt_Unf_SF\":-0.6577800405,\n",
    "        \"Total_Bsmt_SF\":-0.3838929701,\"First_Flr_SF\":-0.6726430145,\"Second_Flr_SF\":-0.7831853136,\n",
    "        \"Gr_Liv_Area\":-1.1944270494,\"Bsmt_Full_Bath\":-0.8215755506,\"Bsmt_Half_Bath\":-0.2492202433,\n",
    "        \"Full_Bath\":-1.0247928896,\"Half_Bath\":-0.7552026932,\"Bedroom_AbvGr\":-1.032233759,\n",
    "        \"Kitchen_AbvGr\":-0.2072914451,\"TotRms_AbvGrd\":-0.9175348951,\"Fireplaces\":-0.9251433155,\n",
    "        \"Garage_Cars\":-1.0068393381,\"Garage_Area\":1.1961007418,\"Wood_Deck_SF\":0.3660608208,\n",
    "        \"Open_Porch_SF\":-0.7044926691,\"Enclosed_Porch\":-0.3588380042,\"Three_season_porch\":-0.1031343162,\n",
    "        \"Screen_Porch\":1.8545298777,\"Pool_Area\":-0.0630310489,\"Misc_Val\":-0.0894222784,\n",
    "        \"Mo_Sold\":-0.0796015602,\"Year_Sold\":1.6784989954,\"Longitude\":0.9005928028,\"Latitude\":1.0067820106}"
   ]
  },
  {
   "cell_type": "code",
   "execution_count": null,
   "id": "d91d6b8b",
   "metadata": {},
   "outputs": [],
   "source": [
    "response = requests.post(\"http://127.0.0.1:8000/predigo\", json=data)"
   ]
  },
  {
   "cell_type": "code",
   "execution_count": null,
   "id": "d03c847f",
   "metadata": {},
   "outputs": [],
   "source": [
    "response"
   ]
  },
  {
   "cell_type": "code",
   "execution_count": null,
   "id": "7bc53a2b",
   "metadata": {},
   "outputs": [],
   "source": [
    "prediction = response.json()\n",
    "prediction"
   ]
  },
  {
   "cell_type": "code",
   "execution_count": null,
   "id": "cb177692",
   "metadata": {},
   "outputs": [],
   "source": []
  }
 ],
 "metadata": {
  "kernelspec": {
   "display_name": "Python 3 (ipykernel)",
   "language": "python",
   "name": "python3"
  },
  "language_info": {
   "codemirror_mode": {
    "name": "ipython",
    "version": 3
   },
   "file_extension": ".py",
   "mimetype": "text/x-python",
   "name": "python",
   "nbconvert_exporter": "python",
   "pygments_lexer": "ipython3",
   "version": "3.9.12"
  },
  "vscode": {
   "interpreter": {
    "hash": "ad506e37338345bc4ce10fda93677ae7fabdd19e81cb29c306a14785784ddb73"
   }
  }
 },
 "nbformat": 4,
 "nbformat_minor": 5
}

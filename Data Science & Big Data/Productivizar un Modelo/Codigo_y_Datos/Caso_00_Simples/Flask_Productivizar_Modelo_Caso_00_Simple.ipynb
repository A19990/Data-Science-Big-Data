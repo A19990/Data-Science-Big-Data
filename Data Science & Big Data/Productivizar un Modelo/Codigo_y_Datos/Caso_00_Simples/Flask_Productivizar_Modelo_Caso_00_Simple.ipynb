{
 "cells": [
  {
   "cell_type": "markdown",
   "id": "b4356922",
   "metadata": {},
   "source": [
    "# FLASK - PRODUCTIVIZAR UN MODELO - EJEMPLO SIMPLE"
   ]
  },
  {
   "attachments": {},
   "cell_type": "markdown",
   "id": "42f17f75",
   "metadata": {},
   "source": [
    "* Se trata de un modelo muy sencillo, simplemente vamos a saludar y sumar. "
   ]
  },
  {
   "cell_type": "markdown",
   "id": "660d4563",
   "metadata": {},
   "source": [
    "### Importamos Librerías"
   ]
  },
  {
   "cell_type": "code",
   "execution_count": null,
   "id": "6e1bc4b5",
   "metadata": {},
   "outputs": [],
   "source": [
    "from flask import Flask, request, jsonify\n",
    "\n",
    "import warnings\n",
    "warnings.filterwarnings(\"ignore\")"
   ]
  },
  {
   "cell_type": "markdown",
   "id": "583d0741",
   "metadata": {},
   "source": [
    "### Inicializamos la aplicación de Flask"
   ]
  },
  {
   "cell_type": "code",
   "execution_count": null,
   "id": "dc06bb63",
   "metadata": {},
   "outputs": [],
   "source": [
    "app = Flask(__name__)"
   ]
  },
  {
   "cell_type": "markdown",
   "id": "59a962f7",
   "metadata": {},
   "source": [
    "### Llamamos a diferentes ejemplos"
   ]
  },
  {
   "cell_type": "code",
   "execution_count": null,
   "id": "c2b7937c",
   "metadata": {},
   "outputs": [],
   "source": [
    "# Defino la ruta\n",
    "@app.route('/hola', methods=['POST'])\n",
    "def hello_world():\n",
    "    salida = 'Hola!'\n",
    "    return jsonify(salida)\n",
    "\n",
    "@app.route('/hola_caracola', methods=['POST'])\n",
    "def hello_titanic():\n",
    "    salida = 'Hola Caracola'\n",
    "    return jsonify(salida)\n",
    "\n",
    "@app.route('/sumo/<int:a>/<int:b>', methods=['POST'])\n",
    "def sumo(a, b):\n",
    "    salida = a + b\n",
    "    return jsonify(salida)\n",
    "\n",
    "\n",
    "@app.route('/sumo_bis', methods=['POST'])\n",
    "def sumo_bis():\n",
    "    data = request.get_json()\n",
    "    a = data['a']\n",
    "    b = data['b']\n",
    "    salida = a + b\n",
    "    return jsonify(salida)"
   ]
  },
  {
   "cell_type": "code",
   "execution_count": null,
   "id": "2e271948",
   "metadata": {
    "scrolled": true
   },
   "outputs": [],
   "source": [
    "# Levanto la aplicación en el puerto 8080 para\n",
    "if __name__ == '__main__':\n",
    "    app.run(port=8080)"
   ]
  },
  {
   "cell_type": "code",
   "execution_count": null,
   "id": "6af1f0c2",
   "metadata": {},
   "outputs": [],
   "source": []
  },
  {
   "cell_type": "markdown",
   "id": "a8611757",
   "metadata": {},
   "source": [
    "---\n",
    "---"
   ]
  },
  {
   "cell_type": "markdown",
   "id": "2e1d410f",
   "metadata": {},
   "source": [
    "### Lanzo una petición al modelo"
   ]
  },
  {
   "cell_type": "code",
   "execution_count": null,
   "id": "acb37734",
   "metadata": {},
   "outputs": [],
   "source": [
    "#------ INCLUYO ESTA PETICIÓN EN OTRO NOTEBOOK -------\n",
    "\n",
    "import requests\n",
    "\n",
    "\n",
    "### Hago la petición hola\n",
    "respuesta = requests.post(\"http://localhost:8080/hola\")\n",
    "resultado = respuesta.json()\n",
    "resultado\n",
    "\n",
    "### Hago la petición hola_caracola\n",
    "respuesta = requests.post(\"http://localhost:8080/hola_caracola\")\n",
    "resultado = respuesta.json()\n",
    "resultado\n",
    "\n",
    "### Hago la petición sumo\n",
    "respuesta = requests.post(\"http://localhost:8080/sumo/3/4\")\n",
    "resultado = respuesta.json()\n",
    "resultado\n",
    "\n",
    "### Hago la petición sumo_bis\n",
    "import requests\n",
    "\n",
    "data = {\n",
    "    \"a\": 5,\n",
    "    \"b\": 4\n",
    "}\n",
    "\n",
    "### Hago la petición y obtengo la respuesta\n",
    "\n",
    "response = requests.post(\"http://localhost:8080/sumo_bis\", json=data)\n",
    "salida = response.json()\n",
    "salida"
   ]
  }
 ],
 "metadata": {
  "kernelspec": {
   "display_name": "Python 3 (ipykernel)",
   "language": "python",
   "name": "python3"
  },
  "language_info": {
   "codemirror_mode": {
    "name": "ipython",
    "version": 3
   },
   "file_extension": ".py",
   "mimetype": "text/x-python",
   "name": "python",
   "nbconvert_exporter": "python",
   "pygments_lexer": "ipython3",
   "version": "3.9.12"
  }
 },
 "nbformat": 4,
 "nbformat_minor": 5
}

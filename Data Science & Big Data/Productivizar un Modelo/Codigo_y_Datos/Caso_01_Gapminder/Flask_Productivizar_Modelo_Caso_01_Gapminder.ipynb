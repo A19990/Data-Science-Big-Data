{
 "cells": [
  {
   "cell_type": "markdown",
   "id": "b4356922",
   "metadata": {},
   "source": [
    "# PRODUCTIVIZAR UN MODELO - EJEMPLO 01"
   ]
  },
  {
   "cell_type": "markdown",
   "id": "42f17f75",
   "metadata": {},
   "source": [
    "* Vamos a crear diferentes funciones que vamos a exponer vía API sobre el conjunto de Gapminder.\n",
    "* Estas funciones nos permitirán procesar el conjunto y obtener diferentes resultados.\n",
    "* Expondremos las funciones.\n",
    "* Y obtendremos diferentes resultados. No son modelos, son procesados a partir de unas entradas que nos llegan a través del API."
   ]
  },
  {
   "cell_type": "markdown",
   "id": "660d4563",
   "metadata": {},
   "source": [
    "### Importamos Librerías"
   ]
  },
  {
   "cell_type": "code",
   "execution_count": null,
   "id": "6e1bc4b5",
   "metadata": {},
   "outputs": [],
   "source": [
    "import pandas as pd\n",
    "from plotnine import *\n",
    "from io import BytesIO\n",
    "from flask import *\n",
    "\n",
    "import warnings\n",
    "warnings.filterwarnings(\"ignore\")"
   ]
  },
  {
   "cell_type": "markdown",
   "id": "583d0741",
   "metadata": {},
   "source": [
    "### Inicializamos la aplicación de Flask"
   ]
  },
  {
   "cell_type": "code",
   "execution_count": null,
   "id": "dc06bb63",
   "metadata": {},
   "outputs": [],
   "source": [
    "app = Flask(__name__)"
   ]
  },
  {
   "cell_type": "markdown",
   "id": "e0de0d42",
   "metadata": {},
   "source": [
    "### Modelo"
   ]
  },
  {
   "cell_type": "code",
   "execution_count": null,
   "id": "0c8737d6",
   "metadata": {},
   "outputs": [],
   "source": [
    "gapminder_df = pd.read_csv('../data/gapminder.csv')"
   ]
  },
  {
   "cell_type": "code",
   "execution_count": null,
   "id": "f1b3d2f6",
   "metadata": {
    "scrolled": true
   },
   "outputs": [],
   "source": [
    "gapminder_df.head()"
   ]
  },
  {
   "cell_type": "code",
   "execution_count": null,
   "id": "96051828",
   "metadata": {},
   "outputs": [],
   "source": [
    "gapminder_df.shape"
   ]
  },
  {
   "cell_type": "markdown",
   "id": "59a962f7",
   "metadata": {},
   "source": [
    "## Apificamos diferentes llamadas al conjunto \"gapminder\""
   ]
  },
  {
   "cell_type": "code",
   "execution_count": null,
   "id": "c2b7937c",
   "metadata": {},
   "outputs": [],
   "source": [
    "# Primera función - continent_pop\n",
    "@app.route('/continent_pop', methods=['POST'])\n",
    "def continent_pop():\n",
    "    # Consigo los datos de la petición\n",
    "    data = request.get_json(force=True)\n",
    "\n",
    "    continent = data['continent']\n",
    "    pop = data['pop']\n",
    "    \n",
    "    result = gapminder_df.loc[(gapminder_df['continent']==continent) & \n",
    "                       (gapminder_df['pop'] >= pop) & \n",
    "                       (gapminder_df['year']== 2007)]\n",
    "\n",
    "    # La predicción la convierto a un JSON\n",
    "    return jsonify(result.to_json(orient='records'))\n",
    "\n",
    "# Segunda función - pais_life\n",
    "@app.route('/pais_life')\n",
    "def pais_life():\n",
    "    # Consigo los datos de la petición\n",
    "    data = request.get_json(force=True)\n",
    "\n",
    "    pais = data['country']\n",
    "    title = data['title']\n",
    "    \n",
    "    result = gapminder_df.loc[(gapminder_df['country']==pais)]\n",
    "    \n",
    "    chart = (ggplot(result)\n",
    "             + aes(x='year', y='lifeExp')\n",
    "             + geom_line()\n",
    "             + labs( title = \"Evolución Esperanza de Vida - \" + title, x = \"Año\", y = \"Esperanza de Vida\")\n",
    "             + theme_bw()\n",
    "            )\n",
    "    \n",
    "    # renderiza el gráfico como una imagen PNG\n",
    "    img = BytesIO()\n",
    "    chart.save(img, format=\"png\")\n",
    "    \n",
    "    # Regresa el archivo PNG al cliente\n",
    "    img.seek(0)\n",
    "    return send_file(img, mimetype=\"image/png\")\n",
    "    "
   ]
  },
  {
   "cell_type": "code",
   "execution_count": null,
   "id": "2e271948",
   "metadata": {
    "scrolled": true
   },
   "outputs": [],
   "source": [
    "# Levanto la aplicación en el puerto 8080 para\n",
    "if __name__ == '__main__':\n",
    "    app.run(port=8080)"
   ]
  },
  {
   "cell_type": "markdown",
   "id": "a8611757",
   "metadata": {},
   "source": [
    "---\n",
    "---"
   ]
  },
  {
   "cell_type": "markdown",
   "id": "2e1d410f",
   "metadata": {},
   "source": [
    "### Lanzo una petición al modelo"
   ]
  },
  {
   "cell_type": "code",
   "execution_count": null,
   "id": "acb37734",
   "metadata": {},
   "outputs": [],
   "source": [
    "### Incluir estas líneas en un notebook diferente.\n",
    "\n",
    "#------------------------ continent_pop\n",
    "import requests\n",
    "\n",
    "data = {\n",
    "    \"continent\": \"Europe\",\n",
    "    \"pop\": 40e6,\n",
    "}\n",
    "\n",
    "### Hago la petición y obtengo la respuesta\n",
    "\n",
    "response = requests.post(\"http://localhost:8080/continent_pop\", json=data)\n",
    "prediction = response.json()\n",
    "prediction\n",
    "\n",
    "#-- El resultado de la predicción es:\n",
    "import pandas as pd\n",
    "pred_df = pd.read_json(prediction)\n",
    "pred_df\n",
    "\n",
    "\n",
    "#------------------------ pais_life\n",
    "import requests\n",
    "\n",
    "data = {\n",
    "    \"country\": \"Spain\",\n",
    "    \"title\": \"España\",\n",
    "}\n",
    "\n",
    "### Hago la petición y obtengo la respuesta\n",
    "respuesta = requests.get(\"http://localhost:8080/pais_life\", json=data)\n",
    "\n",
    "# Guarda el gráfico en un archivo PNG\n",
    "with open(\"Gráfico Salida.png\", \"wb\") as f:\n",
    "    f.write(respuesta.content)\n",
    "\n",
    "# Guarda el gráfico en un archivo PNG\n",
    "with open(\"Esperanza_Vida_.png\", \"wb\") as f:\n",
    "    f.write(respuesta.content)"
   ]
  }
 ],
 "metadata": {
  "kernelspec": {
   "display_name": "Python 3 (ipykernel)",
   "language": "python",
   "name": "python3"
  },
  "language_info": {
   "codemirror_mode": {
    "name": "ipython",
    "version": 3
   },
   "file_extension": ".py",
   "mimetype": "text/x-python",
   "name": "python",
   "nbconvert_exporter": "python",
   "pygments_lexer": "ipython3",
   "version": "3.9.12"
  }
 },
 "nbformat": 4,
 "nbformat_minor": 5
}

{
 "cells": [
  {
   "cell_type": "code",
   "execution_count": null,
   "id": "09797f23",
   "metadata": {},
   "outputs": [],
   "source": [
    "#------------------------ continent_pop\n",
    "import requests\n",
    "\n",
    "data = {\n",
    "    \"continent\": \"Europe\",\n",
    "    \"pop\": 40e6,\n",
    "}\n",
    "\n",
    "### Hago la petición y obtengo la respuesta\n",
    "\n",
    "response = requests.post(\"http://localhost:8080/continent_pop\", json=data)\n",
    "prediction = response.json()\n",
    "prediction\n",
    "\n"
   ]
  },
  {
   "cell_type": "code",
   "execution_count": null,
   "id": "1f3db069",
   "metadata": {},
   "outputs": [],
   "source": [
    "\n",
    "#-- El resultado de la predicción es:\n",
    "import pandas as pd\n",
    "pred_df = pd.read_json(prediction)\n",
    "pred_df"
   ]
  },
  {
   "cell_type": "code",
   "execution_count": null,
   "id": "1c767b9f",
   "metadata": {},
   "outputs": [],
   "source": [
    "#------------------------ pais_life\n",
    "import requests\n",
    "\n",
    "data = {\n",
    "    \"country\": \"Germany\",\n",
    "    \"title\": \"Alemania\",\n",
    "}\n",
    "\n",
    "### Hago la petición y obtengo la respuesta\n",
    "respuesta = requests.get(\"http://localhost:8080/pais_life\", json=data)\n",
    "\n",
    "# Guarda el gráfico en un archivo PNG\n",
    "with open(\"Gráfico Salida.png\", \"wb\") as f:\n",
    "    f.write(respuesta.content)\n",
    "\n",
    "# Guarda el gráfico en un archivo PNG\n",
    "with open(\"Esperanza_Vida_.png\", \"wb\") as f:\n",
    "    f.write(respuesta.content)"
   ]
  },
  {
   "cell_type": "code",
   "execution_count": null,
   "id": "13bb0120",
   "metadata": {},
   "outputs": [],
   "source": [
    "from IPython.display import Image\n",
    "\n",
    "Image(filename='Gráfico Salida.png')"
   ]
  },
  {
   "cell_type": "code",
   "execution_count": null,
   "id": "8ad6cb19",
   "metadata": {},
   "outputs": [],
   "source": [
    "Image(filename='Esperanza_Vida_.png')"
   ]
  },
  {
   "cell_type": "code",
   "execution_count": null,
   "id": "703b9a98",
   "metadata": {},
   "outputs": [],
   "source": []
  }
 ],
 "metadata": {
  "kernelspec": {
   "display_name": "Python 3 (ipykernel)",
   "language": "python",
   "name": "python3"
  },
  "language_info": {
   "codemirror_mode": {
    "name": "ipython",
    "version": 3
   },
   "file_extension": ".py",
   "mimetype": "text/x-python",
   "name": "python",
   "nbconvert_exporter": "python",
   "pygments_lexer": "ipython3",
   "version": "3.9.12"
  }
 },
 "nbformat": 4,
 "nbformat_minor": 5
}
